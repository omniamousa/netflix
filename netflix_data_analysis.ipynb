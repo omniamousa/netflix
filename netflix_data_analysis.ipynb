{
 "cells": [
  {
   "cell_type": "markdown",
   "id": "b409c4b2",
   "metadata": {},
   "source": [
    "### count the number of TV shows and movies separately and compare between them (which is more)."
   ]
  },
  {
   "cell_type": "code",
   "execution_count": 1,
   "id": "632513a1",
   "metadata": {},
   "outputs": [],
   "source": [
    "import pandas as pd"
   ]
  },
  {
   "cell_type": "code",
   "execution_count": 2,
   "id": "9e018608",
   "metadata": {},
   "outputs": [],
   "source": [
    "df = pd.read_csv(\"netflix_titles.csv\")"
   ]
  },
  {
   "cell_type": "code",
   "execution_count": 3,
   "id": "4fd22331",
   "metadata": {},
   "outputs": [
    {
     "name": "stdout",
     "output_type": "stream",
     "text": [
      "num of movies: 6131\n",
      "num of tv shows: 2676\n"
     ]
    }
   ],
   "source": [
    "type_counts = df['type'].value_counts()\n",
    "print(\"num of movies:\", type_counts.get('Movie', 0))\n",
    "print(\"num of tv shows:\", type_counts.get('TV Show', 0))\n"
   ]
  },
  {
   "cell_type": "code",
   "execution_count": 4,
   "id": "3500c83d",
   "metadata": {},
   "outputs": [
    {
     "name": "stdout",
     "output_type": "stream",
     "text": [
      "there're more movies than tv shows\n"
     ]
    }
   ],
   "source": [
    "if type_counts['Movie'] > type_counts.get('TV Show'):\n",
    "    print(\"there're more movies than tv shows\")\n",
    "elif type_counts['Movie'] < type_counts.get('TV Show'):\n",
    "    print(\"there're more tv shows than movies\")\n",
    "else: \n",
    "    print(\"movies and tv shows are the same num\") "
   ]
  },
  {
   "cell_type": "markdown",
   "id": "093b9154",
   "metadata": {},
   "source": [
    "2- iterate through the rating column of the dataset and count how many times the rating is (TV-MA)."
   ]
  },
  {
   "cell_type": "code",
   "execution_count": 5,
   "id": "b34bdd6a",
   "metadata": {},
   "outputs": [
    {
     "name": "stdout",
     "output_type": "stream",
     "text": [
      "num of TV-MA rating: 3207\n"
     ]
    }
   ],
   "source": [
    "rate = 0\n",
    "for rating in df['rating']:\n",
    "    if rating == 'TV-MA' :\n",
    "        rate += 1\n",
    "print(\"num of TV-MA rating:\", rate)\n"
   ]
  },
  {
   "cell_type": "markdown",
   "id": "6f22066a",
   "metadata": {},
   "source": [
    "3- filter the dataset to only include movies released after 2015."
   ]
  },
  {
   "cell_type": "code",
   "execution_count": 6,
   "id": "6efc3af2",
   "metadata": {},
   "outputs": [
    {
     "name": "stdout",
     "output_type": "stream",
     "text": [
      "   show_id   type                             title  \\\n",
      "0       s1  Movie              Dick Johnson Is Dead   \n",
      "6       s7  Movie  My Little Pony: A New Generation   \n",
      "9      s10  Movie                      The Starling   \n",
      "12     s13  Movie                      Je Suis Karl   \n",
      "13     s14  Movie  Confessions of an Invisible Girl   \n",
      "\n",
      "                         director  \\\n",
      "0                 Kirsten Johnson   \n",
      "6   Robert Cullen, José Luis Ucha   \n",
      "9                  Theodore Melfi   \n",
      "12            Christian Schwochow   \n",
      "13                  Bruno Garotti   \n",
      "\n",
      "                                                 cast  \\\n",
      "0                                                 NaN   \n",
      "6   Vanessa Hudgens, Kimiko Glenn, James Marsden, ...   \n",
      "9   Melissa McCarthy, Chris O'Dowd, Kevin Kline, T...   \n",
      "12  Luna Wedler, Jannis Niewöhner, Milan Peschel, ...   \n",
      "13  Klara Castanho, Lucca Picon, Júlia Gomes, Marc...   \n",
      "\n",
      "                    country date_added  release_year rating duration  \\\n",
      "0             United States  25-Sep-21          2020  PG-13   90 min   \n",
      "6                       NaN  24-Sep-21          2021     PG   91 min   \n",
      "9             United States  24-Sep-21          2021  PG-13  104 min   \n",
      "12  Germany, Czech Republic  23-Sep-21          2021  TV-MA  127 min   \n",
      "13                      NaN  22-Sep-21          2021  TV-PG   91 min   \n",
      "\n",
      "                             listed_in  \\\n",
      "0                        Documentaries   \n",
      "6             Children & Family Movies   \n",
      "9                     Comedies, Dramas   \n",
      "12        Dramas, International Movies   \n",
      "13  Children & Family Movies, Comedies   \n",
      "\n",
      "                                          description  \n",
      "0   As her father nears the end of his life, filmm...  \n",
      "6   Equestria's divided. But a bright-eyed hero be...  \n",
      "9   A woman adjusting to life after a loss contend...  \n",
      "12  After most of her family is murdered in a terr...  \n",
      "13  When the clever but socially-awkward Tetê join...  \n",
      "num of movies after 2015: 3619\n"
     ]
    }
   ],
   "source": [
    "filtered_df = df[(df['type'] == 'Movie') & (df['release_year'] > 2015)]\n",
    "print(filtered_df.head())\n",
    "print(\"num of movies after 2015:\", filtered_df.shape[0])"
   ]
  },
  {
   "cell_type": "markdown",
   "id": "bb1d4b37",
   "metadata": {},
   "source": [
    "4-Create a new column called year_added from the date_added column."
   ]
  },
  {
   "cell_type": "code",
   "execution_count": 7,
   "id": "cb355d8e",
   "metadata": {},
   "outputs": [
    {
     "name": "stdout",
     "output_type": "stream",
     "text": [
      "  date_added  year_added\n",
      "0 2021-09-25      2021.0\n",
      "1 2021-09-24      2021.0\n",
      "2 2021-09-24      2021.0\n",
      "3 2021-09-24      2021.0\n",
      "4 2021-09-24      2021.0\n"
     ]
    },
    {
     "name": "stderr",
     "output_type": "stream",
     "text": [
      "C:\\Users\\UTS\\AppData\\Local\\Temp\\ipykernel_5492\\448346207.py:1: UserWarning: Could not infer format, so each element will be parsed individually, falling back to `dateutil`. To ensure parsing is consistent and as-expected, please specify a format.\n",
      "  df['date_added'] = pd.to_datetime(df['date_added'], errors='coerce')\n"
     ]
    }
   ],
   "source": [
    "df['date_added'] = pd.to_datetime(df['date_added'], errors='coerce')\n",
    "df['year_added'] = df['date_added'].dt.year\n",
    "print(df[['date_added', 'year_added']].head()) "
   ]
  },
  {
   "cell_type": "markdown",
   "id": "aa2c21f4",
   "metadata": {},
   "source": [
    "-For each year_added, calculate the average length of the title (character count).\n"
   ]
  },
  {
   "cell_type": "code",
   "execution_count": 8,
   "id": "785d3cf8",
   "metadata": {},
   "outputs": [
    {
     "name": "stdout",
     "output_type": "stream",
     "text": [
      "year_added\n",
      "2008.0    17.500000\n",
      "2009.0    15.500000\n",
      "2010.0    27.000000\n",
      "2011.0    20.769231\n",
      "2012.0    23.666667\n",
      "2013.0    18.545455\n",
      "2014.0    23.000000\n",
      "2015.0    23.121951\n",
      "2016.0    19.783217\n",
      "2017.0    17.699495\n",
      "2018.0    17.471195\n",
      "2019.0    17.358631\n",
      "2020.0    17.455561\n",
      "2021.0    17.838451\n",
      "Name: title_length, dtype: float64\n"
     ]
    }
   ],
   "source": [
    "df['title_length'] = df['title'].str.len()\n",
    "avg_title_length = df.groupby('year_added')['title_length'].mean()\n",
    "print(avg_title_length)\n"
   ]
  },
  {
   "cell_type": "markdown",
   "id": "32de17e3",
   "metadata": {},
   "source": [
    "-Plot the trend of average title length over the years Netflix added content."
   ]
  },
  {
   "cell_type": "code",
   "execution_count": 9,
   "id": "84f2f694",
   "metadata": {},
   "outputs": [],
   "source": [
    "import matplotlib.pyplot as plt"
   ]
  },
  {
   "cell_type": "code",
   "execution_count": 10,
   "id": "2a766227",
   "metadata": {},
   "outputs": [
    {
     "data": {
      "image/png": "[encoded data removed]",
      "text/plain": [
       "<Figure size 640x480 with 1 Axes>"
      ]
     },
     "metadata": {},
     "output_type": "display_data"
    }
   ],
   "source": [
    "avg_title_length.plot(kind='line', marker='.', color='black')\n",
    "\n",
    "plt.title('Avg Title Length by year')\n",
    "plt.xlabel('Year')\n",
    "plt.ylabel('Title Length')\n",
    "plt.grid(True)\n",
    "plt.show()\n",
    "\n",
    "\n",
    "\n",
    "\n",
    "\n"
   ]
  },
  {
   "cell_type": "markdown",
   "id": "b6969069",
   "metadata": {},
   "source": [
    "1- Extract the month and year separately."
   ]
  },
  {
   "cell_type": "code",
   "execution_count": 11,
   "id": "847f4f8c",
   "metadata": {},
   "outputs": [],
   "source": [
    "import pandas as pd\n",
    "df = pd.read_csv(\"netflix_titles.csv\")"
   ]
  },
  {
   "cell_type": "code",
   "execution_count": 12,
   "id": "5b74f090",
   "metadata": {},
   "outputs": [
    {
     "name": "stdout",
     "output_type": "stream",
     "text": [
      "  date_added month_added\n",
      "0 2021-09-25   September\n",
      "1 2021-09-24   September\n",
      "2 2021-09-24   September\n",
      "3 2021-09-24   September\n",
      "4 2021-09-24   September\n"
     ]
    },
    {
     "name": "stderr",
     "output_type": "stream",
     "text": [
      "C:\\Users\\UTS\\AppData\\Local\\Temp\\ipykernel_5492\\2252343132.py:1: UserWarning: Could not infer format, so each element will be parsed individually, falling back to `dateutil`. To ensure parsing is consistent and as-expected, please specify a format.\n",
      "  df['date_added'] = pd.to_datetime(df['date_added'])\n"
     ]
    }
   ],
   "source": [
    "df['date_added'] = pd.to_datetime(df['date_added'])\n",
    "df['month_added'] = df['date_added'].dt.month_name()\n",
    "print(df[['date_added', 'month_added']].head()) "
   ]
  },
  {
   "cell_type": "markdown",
   "id": "492e22d2",
   "metadata": {},
   "source": [
    " 2-Identify which month (across all years) Netflix typically adds the most new content.\n"
   ]
  },
  {
   "cell_type": "code",
   "execution_count": 13,
   "id": "49468411",
   "metadata": {},
   "outputs": [
    {
     "name": "stdout",
     "output_type": "stream",
     "text": [
      "month_added\n",
      "July         827\n",
      "December     813\n",
      "September    770\n",
      "April        764\n",
      "October      760\n",
      "August       755\n",
      "March        742\n",
      "January      738\n",
      "June         728\n",
      "November     705\n",
      "May          632\n",
      "February     563\n",
      "Name: count, dtype: int64\n",
      "Most active month: July\n"
     ]
    }
   ],
   "source": [
    "month_counts = df['month_added'].value_counts()\n",
    "print(month_counts)\n",
    "print(\"Most active month:\", month_counts.idxmax())"
   ]
  },
  {
   "cell_type": "markdown",
   "id": "ec7ecb8b",
   "metadata": {},
   "source": [
    " 3- Plot the total number of titles added per month."
   ]
  },
  {
   "cell_type": "code",
   "execution_count": 14,
   "id": "44fa9ece",
   "metadata": {},
   "outputs": [
    {
     "data": {
      "image/png": "[encoded data removed]",
      "text/plain": [
       "<Figure size 640x480 with 1 Axes>"
      ]
     },
     "metadata": {},
     "output_type": "display_data"
    }
   ],
   "source": [
    "month_counts = df['month_added'].value_counts().sort_index()\n",
    "\n",
    "import matplotlib.pyplot as plt\n",
    "\n",
    "month_counts.plot(kind='bar', color='grey')  \n",
    "plt.title('Total Titles Added per Month')\n",
    "plt.xlabel('Month')\n",
    "plt.ylabel('Num of Titles')\n",
    "plt.xticks(rotation=45)  \n",
    "plt.grid(True)\n",
    "plt.tight_layout()  \n",
    "plt.show()"
   ]
  },
  {
   "cell_type": "markdown",
   "id": "f10ad038",
   "metadata": {},
   "source": [
    "1- Identify any titles that appear more than once, regardless of country."
   ]
  },
  {
   "cell_type": "markdown",
   "id": "6a889fec",
   "metadata": {},
   "source": [
    "Step 1: get duplicated titles"
   ]
  },
  {
   "cell_type": "code",
   "execution_count": 15,
   "id": "4866a5f9",
   "metadata": {},
   "outputs": [],
   "source": [
    "duplicate_titles = df[df.duplicated('title', keep=False)]"
   ]
  },
  {
   "cell_type": "markdown",
   "id": "c9dc326f",
   "metadata": {},
   "source": [
    "Step 2: show title + country + rating for duplicates Eny Thing"
   ]
  },
  {
   "cell_type": "code",
   "execution_count": 16,
   "id": "7cbe021d",
   "metadata": {},
   "outputs": [
    {
     "name": "stdout",
     "output_type": "stream",
     "text": [
      "       title                         country rating\n",
      "3962  15-Aug                           India  TV-14\n",
      "5966  15-Aug                           India  TV-14\n",
      "4522  22-Jul  Norway, Iceland, United States      R\n",
      "5965  22-Jul  Norway, Iceland, United States      R\n",
      "3996   9-Feb                             NaN  TV-14\n",
      "5964   9-Feb                             NaN  TV-14\n"
     ]
    }
   ],
   "source": [
    "result = duplicate_titles[['title', 'country', 'rating']].sort_values('title')\n",
    "print(result)"
   ]
  }
 ],
 "metadata": {
  "kernelspec": {
   "display_name": "Python 3",
   "language": "python",
   "name": "python3"
  },
  "language_info": {
   "codemirror_mode": {
    "name": "ipython",
    "version": 3
   },
   "file_extension": ".py",
   "mimetype": "text/x-python",
   "name": "python",
   "nbconvert_exporter": "python",
   "pygments_lexer": "ipython3",
   "version": "3.11.9"
  }
 },
 "nbformat": 4,
 "nbformat_minor": 5
}
